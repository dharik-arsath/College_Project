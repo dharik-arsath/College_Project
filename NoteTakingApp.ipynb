{
 "cells": [
  {
   "cell_type": "markdown",
   "metadata": {},
   "source": [
    "## Note Taking Application\n",
    "## There are 3 Methods in this NOTE TAKING CODE \n",
    "   - Adding   the Record\n",
    "   - Reading  the Record\n",
    "   - Deleting the Record\n"
   ]
  },
  {
   "cell_type": "code",
   "execution_count": 187,
   "metadata": {},
   "outputs": [],
   "source": [
    "import os"
   ]
  },
  {
   "cell_type": "code",
   "execution_count": 188,
   "metadata": {},
   "outputs": [],
   "source": [
    "os.chdir('/home/arsath')\n",
    "if not(os.path.exists('Note Taking App')):\n",
    "    os.mkdir('Note Taking App')\n",
    "os.chdir('Note Taking App')"
   ]
  },
  {
   "cell_type": "code",
   "execution_count": 189,
   "metadata": {},
   "outputs": [],
   "source": [
    "def add_record():\n",
    "    keyword  = input('Enter the Name of the Note to save them locally: ')\n",
    "    text     = input('Note -->: ')\n",
    "    with open(keyword,'a+') as file:\n",
    "        file.writelines(text)"
   ]
  },
  {
   "cell_type": "code",
   "execution_count": 191,
   "metadata": {},
   "outputs": [
    {
     "name": "stdout",
     "output_type": "stream",
     "text": [
      "Enter the Name of the Note to save them locally: q\n",
      "Note -->: qwerty\n"
     ]
    }
   ],
   "source": [
    "add_record()"
   ]
  },
  {
   "cell_type": "code",
   "execution_count": 192,
   "metadata": {},
   "outputs": [],
   "source": [
    "def read_record():\n",
    "    print(f'\\nList of Available NOTES under {os.getcwd()} : ',end = '')\n",
    "    print(os.listdir())\n",
    "    print()\n",
    "    while True:\n",
    "        if len(os.getcwd()) >= 1:\n",
    "            keyword = input('\\nEnter the Name of the Note to READ: ')\n",
    "            print()\n",
    "            if keyword in os.listdir():\n",
    "                with open(keyword,'r') as file:\n",
    "                    print(file.read())\n",
    "                    print('\\n')\n",
    "                    print(110*'*')\n",
    "                    print(f'Your NOTE {keyword} is being closed successfully')\n",
    "                    print(110*'*')\n",
    "                    break\n",
    "            else:\n",
    "                print('NOTE Not Found Please Try searching with different NOTE_name\\n')\n",
    "                print(f'\\nList of Available NOTES under {os.getcwd()} : ',end = '')\n",
    "                print(os.listdir())\n",
    "                chance = input('\\nwould you like to try again: ').lower()\n",
    "                if chance   == 'yes' or chance == 'y':\n",
    "                    continue\n",
    "                elif chance == 'no'  or chance == 'n':\n",
    "                    break\n",
    "                else:\n",
    "                    print('Invalid Command')\n",
    "                    break\n",
    "        else:\n",
    "            print(110*'*')\n",
    "            print(f'\\n NO NOTES TO READ in {os.getcwd()}')\n",
    "            print(110*'*')\n",
    "            break"
   ]
  },
  {
   "cell_type": "code",
   "execution_count": 193,
   "metadata": {},
   "outputs": [
    {
     "name": "stdout",
     "output_type": "stream",
     "text": [
      "\n",
      "List of Available NOTES under /home/arsath/Note Taking App : ['q', 'b', 'c']\n",
      "\n",
      "\n",
      "Enter the Name of the Note to READ: c\n",
      "\n",
      "c\n",
      "\n",
      "\n",
      "**************************************************************************************************************\n",
      "Your NOTE c is being closed successfully\n",
      "**************************************************************************************************************\n"
     ]
    }
   ],
   "source": [
    "read_record()"
   ]
  },
  {
   "cell_type": "code",
   "execution_count": 194,
   "metadata": {},
   "outputs": [
    {
     "name": "stdout",
     "output_type": "stream",
     "text": [
      "\n",
      "List of Available NOTES under /home/arsath/Note Taking App : ['q', 'b', 'c']\n",
      "\n",
      "\n",
      "Enter the Name of the NOTE to Delete: q\n",
      "**************************************************************************************************************\n",
      "Your NOTE is being Deleted successfully\n",
      "**************************************************************************************************************\n"
     ]
    }
   ],
   "source": [
    "def delete_record():\n",
    "    print(f'\\nList of Available NOTES under {os.getcwd()} : ',end = '')\n",
    "    print(os.listdir())\n",
    "    print()\n",
    "    while True:\n",
    "        if len(os.getcwd()) >= 1:\n",
    "            keyword = input('\\nEnter the Name of the NOTE to Delete: ')\n",
    "            if keyword in os.listdir():\n",
    "                os.remove(keyword)\n",
    "                print(110*'*')\n",
    "                print('Your NOTE is being Deleted successfully')\n",
    "                print(110*'*')\n",
    "                break\n",
    "            else:\n",
    "                print('Note not found Please try again with different NOTE_name')\n",
    "                print(f'\\nList of Available notes under {os.getcwd()}: ',end='')\n",
    "                print(os.listdir())\n",
    "                chance = input('\\nwould you like to try again: ').lower()\n",
    "                if chance   == 'yes' or chance == 'y':\n",
    "                    continue\n",
    "                elif chance == 'no'  or chance == 'n':\n",
    "                    break\n",
    "                else:\n",
    "                    print('Invalid Command')\n",
    "                    break\n",
    "        else:\n",
    "            print(110*'*')\n",
    "            print(f'\\n NO NOTES TO READ in {os.getcwd()}')\n",
    "            print(110*'*')\n",
    "            break\n",
    "            \n",
    "\n",
    "\n",
    "delete_record()"
   ]
  }
 ],
 "metadata": {
  "kernelspec": {
   "display_name": "Python 3",
   "language": "python",
   "name": "python3"
  },
  "language_info": {
   "codemirror_mode": {
    "name": "ipython",
    "version": 3
   },
   "file_extension": ".py",
   "mimetype": "text/x-python",
   "name": "python",
   "nbconvert_exporter": "python",
   "pygments_lexer": "ipython3",
   "version": "3.8.5"
  }
 },
 "nbformat": 4,
 "nbformat_minor": 4
}
